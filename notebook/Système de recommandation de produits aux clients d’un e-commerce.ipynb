{
 "cells": [
  {
   "cell_type": "markdown",
   "metadata": {},
   "source": [
    "# Système de recommandation de produits aux clients d’un e-commerce\n",
    "\n"
   ]
  },
  {
   "cell_type": "code",
   "execution_count": null,
   "metadata": {},
   "outputs": [],
   "source": []
  },
  {
   "cell_type": "markdown",
   "metadata": {},
   "source": [
    "Charger le paquet fpgrowth_py pour les règles d'association :\n",
    "\n",
    "pip install fpgrowth_py"
   ]
  },
  {
   "cell_type": "code",
   "execution_count": null,
   "metadata": {},
   "outputs": [],
   "source": []
  },
  {
   "cell_type": "markdown",
   "metadata": {},
   "source": [
    "# Importation de certaines bibliothèques et transformation des données"
   ]
  },
  {
   "cell_type": "code",
   "execution_count": 51,
   "metadata": {},
   "outputs": [],
   "source": [
    "import numpy as np \n",
    "import pandas as pd\n",
    "from fpgrowth_py import fpgrowth\n",
    "import numpy as np # algèbre linéaire\n",
    "import pandas as pd # data processing, entrées/sorties de fichiers CSV\n",
    "\n",
    "# nous allons importer les bibliothèques utilisées pour l'apprentissage automatique\n",
    "import numpy as np # algèbre linéaire\n",
    "import pandas as pd # data processing, manipulation des données comme dans SQL\n",
    "import matplotlib.pyplot as plt # utilisé pour le tracé du graphique \n",
    "import seaborn as sns # utilisé pour tracer le graphique interactif\n",
    "%matplotlib inline\n",
    "import time\n",
    "\n"
   ]
  },
  {
   "cell_type": "code",
   "execution_count": 52,
   "metadata": {},
   "outputs": [
    {
     "name": "stdout",
     "output_type": "stream",
     "text": [
      "The dimensions of the dataset are :  (406829, 9)\n",
      "---------\n"
     ]
    },
    {
     "data": {
      "text/html": [
       "<div>\n",
       "<style scoped>\n",
       "    .dataframe tbody tr th:only-of-type {\n",
       "        vertical-align: middle;\n",
       "    }\n",
       "\n",
       "    .dataframe tbody tr th {\n",
       "        vertical-align: top;\n",
       "    }\n",
       "\n",
       "    .dataframe thead th {\n",
       "        text-align: right;\n",
       "    }\n",
       "</style>\n",
       "<table border=\"1\" class=\"dataframe\">\n",
       "  <thead>\n",
       "    <tr style=\"text-align: right;\">\n",
       "      <th></th>\n",
       "      <th>InvoiceNo</th>\n",
       "      <th>StockCode</th>\n",
       "      <th>Description</th>\n",
       "      <th>Quantity</th>\n",
       "      <th>InvoiceDate</th>\n",
       "      <th>UnitPrice</th>\n",
       "      <th>CustomerID</th>\n",
       "      <th>Country</th>\n",
       "      <th>GroupPrice</th>\n",
       "    </tr>\n",
       "  </thead>\n",
       "  <tbody>\n",
       "    <tr>\n",
       "      <th>0</th>\n",
       "      <td>536365</td>\n",
       "      <td>85123A</td>\n",
       "      <td>WHITE HANGING HEART T-LIGHT HOLDER</td>\n",
       "      <td>6</td>\n",
       "      <td>12/1/2010 8:26</td>\n",
       "      <td>2.55</td>\n",
       "      <td>17850.0</td>\n",
       "      <td>United Kingdom</td>\n",
       "      <td>15.30</td>\n",
       "    </tr>\n",
       "    <tr>\n",
       "      <th>1</th>\n",
       "      <td>536365</td>\n",
       "      <td>71053</td>\n",
       "      <td>WHITE METAL LANTERN</td>\n",
       "      <td>6</td>\n",
       "      <td>12/1/2010 8:26</td>\n",
       "      <td>3.39</td>\n",
       "      <td>17850.0</td>\n",
       "      <td>United Kingdom</td>\n",
       "      <td>20.34</td>\n",
       "    </tr>\n",
       "    <tr>\n",
       "      <th>2</th>\n",
       "      <td>536365</td>\n",
       "      <td>84406B</td>\n",
       "      <td>CREAM CUPID HEARTS COAT HANGER</td>\n",
       "      <td>8</td>\n",
       "      <td>12/1/2010 8:26</td>\n",
       "      <td>2.75</td>\n",
       "      <td>17850.0</td>\n",
       "      <td>United Kingdom</td>\n",
       "      <td>22.00</td>\n",
       "    </tr>\n",
       "    <tr>\n",
       "      <th>3</th>\n",
       "      <td>536365</td>\n",
       "      <td>84029G</td>\n",
       "      <td>KNITTED UNION FLAG HOT WATER BOTTLE</td>\n",
       "      <td>6</td>\n",
       "      <td>12/1/2010 8:26</td>\n",
       "      <td>3.39</td>\n",
       "      <td>17850.0</td>\n",
       "      <td>United Kingdom</td>\n",
       "      <td>20.34</td>\n",
       "    </tr>\n",
       "    <tr>\n",
       "      <th>4</th>\n",
       "      <td>536365</td>\n",
       "      <td>84029E</td>\n",
       "      <td>RED WOOLLY HOTTIE WHITE HEART.</td>\n",
       "      <td>6</td>\n",
       "      <td>12/1/2010 8:26</td>\n",
       "      <td>3.39</td>\n",
       "      <td>17850.0</td>\n",
       "      <td>United Kingdom</td>\n",
       "      <td>20.34</td>\n",
       "    </tr>\n",
       "  </tbody>\n",
       "</table>\n",
       "</div>"
      ],
      "text/plain": [
       "  InvoiceNo StockCode                          Description  Quantity  \\\n",
       "0    536365    85123A   WHITE HANGING HEART T-LIGHT HOLDER         6   \n",
       "1    536365     71053                  WHITE METAL LANTERN         6   \n",
       "2    536365    84406B       CREAM CUPID HEARTS COAT HANGER         8   \n",
       "3    536365    84029G  KNITTED UNION FLAG HOT WATER BOTTLE         6   \n",
       "4    536365    84029E       RED WOOLLY HOTTIE WHITE HEART.         6   \n",
       "\n",
       "      InvoiceDate  UnitPrice  CustomerID         Country  GroupPrice  \n",
       "0  12/1/2010 8:26       2.55     17850.0  United Kingdom       15.30  \n",
       "1  12/1/2010 8:26       3.39     17850.0  United Kingdom       20.34  \n",
       "2  12/1/2010 8:26       2.75     17850.0  United Kingdom       22.00  \n",
       "3  12/1/2010 8:26       3.39     17850.0  United Kingdom       20.34  \n",
       "4  12/1/2010 8:26       3.39     17850.0  United Kingdom       20.34  "
      ]
     },
     "execution_count": 52,
     "metadata": {},
     "output_type": "execute_result"
    }
   ],
   "source": [
    "data=pd.read_csv('/Users/jl/Downloads/data.csv', encoding= 'unicode_escape') # importation à partir d'un fichier csv\n",
    "data['GroupPrice']=data['Quantity']*data['UnitPrice']\n",
    "data=data.dropna()\n",
    "print('The dimensions of the dataset are : ', data.shape)\n",
    "print('---------')\n",
    "data.head()"
   ]
  },
  {
   "cell_type": "code",
   "execution_count": 53,
   "metadata": {},
   "outputs": [],
   "source": [
    "# variables explicatives :"
   ]
  },
  {
   "cell_type": "markdown",
   "metadata": {},
   "source": [
    "InvoiceNo : numéro de la facture correspondant à l'achat du produit.\n",
    "\n",
    "StockCode : Identifiant du produit acheté. Chaque identifiant est différent.\n",
    "\n",
    "Description : Description du produit acheté.\n",
    "\n",
    "Quantité : Quantité du produit acheté\n",
    "\n",
    "InvoiceDate : Date de la facture, du 01/12/2010 au 09/12/2011 .\n",
    "\n",
    "UnitPrice : Prix d'un produit.\n",
    "\n",
    "CustomerID : Identifiant du client. Chaque identifiant est différent.\n",
    "\n",
    "Country : Pays dans lequel le client a passé sa commande.\n",
    "\n",
    "GroupPrice : Prix de tous les mêmes produits achetés. Quantité x Prix unitaire"
   ]
  },
  {
   "cell_type": "code",
   "execution_count": null,
   "metadata": {},
   "outputs": [],
   "source": []
  },
  {
   "cell_type": "markdown",
   "metadata": {},
   "source": [
    "# Data preprocessing"
   ]
  },
  {
   "cell_type": "markdown",
   "metadata": {},
   "source": [
    "Suppression des produits qui correspondent à des cadeaux offerts par l'entreprise aux clients.\n",
    "Nous ne conservons que les produits que le client a effectivement mis dans son panier.\n",
    "\n",
    "Nous regroupons tous les produits achetés par un client.\n",
    "Chaque ligne correspond à une transaction composée du numéro de facture, de l'identifiant du client et de tous les produits achetés."
   ]
  },
  {
   "cell_type": "code",
   "execution_count": 54,
   "metadata": {},
   "outputs": [
    {
     "name": "stdout",
     "output_type": "stream",
     "text": [
      "Dimension of the new grouped dataset :  (21788, 1)\n",
      "----------\n"
     ]
    },
    {
     "data": {
      "text/html": [
       "<div>\n",
       "<style scoped>\n",
       "    .dataframe tbody tr th:only-of-type {\n",
       "        vertical-align: middle;\n",
       "    }\n",
       "\n",
       "    .dataframe tbody tr th {\n",
       "        vertical-align: top;\n",
       "    }\n",
       "\n",
       "    .dataframe thead th {\n",
       "        text-align: right;\n",
       "    }\n",
       "</style>\n",
       "<table border=\"1\" class=\"dataframe\">\n",
       "  <thead>\n",
       "    <tr style=\"text-align: right;\">\n",
       "      <th></th>\n",
       "      <th></th>\n",
       "      <th>StockCode</th>\n",
       "    </tr>\n",
       "    <tr>\n",
       "      <th>InvoiceNo</th>\n",
       "      <th>CustomerID</th>\n",
       "      <th></th>\n",
       "    </tr>\n",
       "  </thead>\n",
       "  <tbody>\n",
       "    <tr>\n",
       "      <th>536365</th>\n",
       "      <th>17850.0</th>\n",
       "      <td>[84029G, 71053, 85123A, 84406B, 84029E, 22752,...</td>\n",
       "    </tr>\n",
       "    <tr>\n",
       "      <th>536366</th>\n",
       "      <th>17850.0</th>\n",
       "      <td>[22632, 22633]</td>\n",
       "    </tr>\n",
       "    <tr>\n",
       "      <th>536367</th>\n",
       "      <th>13047.0</th>\n",
       "      <td>[22745, 22622, 84969, 21777, 21754, 22310, 226...</td>\n",
       "    </tr>\n",
       "    <tr>\n",
       "      <th>536368</th>\n",
       "      <th>13047.0</th>\n",
       "      <td>[22914, 22960, 22913, 22912]</td>\n",
       "    </tr>\n",
       "    <tr>\n",
       "      <th>536369</th>\n",
       "      <th>13047.0</th>\n",
       "      <td>[21756]</td>\n",
       "    </tr>\n",
       "  </tbody>\n",
       "</table>\n",
       "</div>"
      ],
      "text/plain": [
       "                                                              StockCode\n",
       "InvoiceNo CustomerID                                                   \n",
       "536365    17850.0     [84029G, 71053, 85123A, 84406B, 84029E, 22752,...\n",
       "536366    17850.0                                        [22632, 22633]\n",
       "536367    13047.0     [22745, 22622, 84969, 21777, 21754, 22310, 226...\n",
       "536368    13047.0                          [22914, 22960, 22913, 22912]\n",
       "536369    13047.0                                               [21756]"
      ]
     },
     "execution_count": 54,
     "metadata": {},
     "output_type": "execute_result"
    }
   ],
   "source": [
    "liste= data['StockCode'].unique() \n",
    "stock_to_del=[]\n",
    "for el in liste:\n",
    "    if el[0] not in ['1','2','3','4','5','6','7','8','9','10']: # produits correspondant aux cadeaux \n",
    "        stock_to_del.append(el)\n",
    "\n",
    "data=data[data['StockCode'].map(lambda x: x not in stock_to_del)] # supprimer ces produits\n",
    "\n",
    "basket = data.groupby(['InvoiceNo','CustomerID']).agg({'StockCode': lambda s: list(set(s))}) # regrouper les produits d'une même facture \n",
    "\n",
    "print('Dimension of the new grouped dataset : ', basket.shape)\n",
    "print('----------')\n",
    "basket.head()"
   ]
  },
  {
   "cell_type": "code",
   "execution_count": null,
   "metadata": {},
   "outputs": [],
   "source": []
  },
  {
   "cell_type": "code",
   "execution_count": null,
   "metadata": {},
   "outputs": [],
   "source": []
  },
  {
   "cell_type": "markdown",
   "metadata": {},
   "source": [
    "# Modélisation des règles d'association : algorithme de croissance Fp"
   ]
  },
  {
   "cell_type": "markdown",
   "metadata": {},
   "source": [
    "Fp Growth est un modèle de Data Mining basé sur des règles d'association.\n",
    "\n",
    "Ce modèle permet, à partir d'un historique de transactions, de déterminer l'ensemble des règles d'association les plus fréquentes dans l'ensemble de données. Pour ce faire, il a besoin comme paramètre d'entrée de l'ensemble des transactions composées des paniers de produits que les clients ont déjà achetés.\n",
    "\n",
    "Étant donné un ensemble de transactions, la première étape de FP-growth consiste à calculer les fréquences des articles et à identifier les articles fréquents.\n",
    "\n",
    "La deuxième étape de FP-growth utilise une structure d'arbre suffixe (FP-tree) pour coder les transactions sans générer explicitement des ensembles candidats, qui sont généralement coûteux à générer.\n",
    "\n",
    "Après la deuxième étape, les ensembles d'articles fréquents peuvent être extraits de l'arbre FP et le modèle renvoie un ensemble de règles d'association de produits.\n",
    "\n",
    "\n",
    "\n",
    "Pour établir cette table, il faut fournir au modèle 2 hyperparamètres :\n",
    "\n",
    "minSupRatio : support minimum pour qu'un itemset soit identifié comme fréquent.\n",
    "Par exemple, si un élément apparaît 3 fois sur 5 transactions, son support est de 3/5=0,6.\n",
    "\n",
    "minConf : confiance minimale pour générer une règle d'association.\n",
    "La confiance est une indication de la fréquence à laquelle une règle d'association s'est avérée vraie.\n",
    "Par exemple, si dans l'ensemble de transactions X apparaît 4 fois, X et Y ne coïncident que 2 fois, la confiance pour la règle X => Y est alors de 2/4 = 0,5.\n",
    "Ce paramètre n'affecte pas l'extraction d'ensembles fréquents, mais spécifie la confiance minimale pour générer des règles d'association à partir d'ensembles fréquents.\n",
    "\n",
    "Une fois les règles d'association calculées, il ne reste plus qu'à les appliquer aux paniers de produits des clients."
   ]
  },
  {
   "cell_type": "code",
   "execution_count": 55,
   "metadata": {},
   "outputs": [
    {
     "name": "stdout",
     "output_type": "stream",
     "text": [
      "time to execute in seconds :  223.52582812309265  s.\n",
      "Number of rules generated :  4955\n",
      "Dimensions of the association table are :  (4955, 3)\n"
     ]
    },
    {
     "data": {
      "text/html": [
       "<div>\n",
       "<style scoped>\n",
       "    .dataframe tbody tr th:only-of-type {\n",
       "        vertical-align: middle;\n",
       "    }\n",
       "\n",
       "    .dataframe tbody tr th {\n",
       "        vertical-align: top;\n",
       "    }\n",
       "\n",
       "    .dataframe thead th {\n",
       "        text-align: right;\n",
       "    }\n",
       "</style>\n",
       "<table border=\"1\" class=\"dataframe\">\n",
       "  <thead>\n",
       "    <tr style=\"text-align: right;\">\n",
       "      <th></th>\n",
       "      <th>basket</th>\n",
       "      <th>next_product</th>\n",
       "      <th>proba</th>\n",
       "    </tr>\n",
       "  </thead>\n",
       "  <tbody>\n",
       "    <tr>\n",
       "      <th>197</th>\n",
       "      <td>{22917, 22920, 22916, 22921, 22919}</td>\n",
       "      <td>{22918}</td>\n",
       "      <td>0.992537</td>\n",
       "    </tr>\n",
       "    <tr>\n",
       "      <th>420</th>\n",
       "      <td>{22921, 22916, 22919, 22917}</td>\n",
       "      <td>{22918}</td>\n",
       "      <td>0.986014</td>\n",
       "    </tr>\n",
       "    <tr>\n",
       "      <th>306</th>\n",
       "      <td>{22921, 22920, 22916, 22917}</td>\n",
       "      <td>{22918}</td>\n",
       "      <td>0.985714</td>\n",
       "    </tr>\n",
       "    <tr>\n",
       "      <th>308</th>\n",
       "      <td>{22921, 22920, 22918, 22917}</td>\n",
       "      <td>{22916}</td>\n",
       "      <td>0.985714</td>\n",
       "    </tr>\n",
       "    <tr>\n",
       "      <th>92</th>\n",
       "      <td>{22921, 22920, 22919, 22917}</td>\n",
       "      <td>{22918}</td>\n",
       "      <td>0.985401</td>\n",
       "    </tr>\n",
       "    <tr>\n",
       "      <th>228</th>\n",
       "      <td>{22921, 22920, 22916, 22919}</td>\n",
       "      <td>{22918}</td>\n",
       "      <td>0.985401</td>\n",
       "    </tr>\n",
       "    <tr>\n",
       "      <th>202</th>\n",
       "      <td>{22920, 22916, 22921, 22919, 22918}</td>\n",
       "      <td>{22917}</td>\n",
       "      <td>0.985185</td>\n",
       "    </tr>\n",
       "    <tr>\n",
       "      <th>199</th>\n",
       "      <td>{22917, 22920, 22921, 22919, 22918}</td>\n",
       "      <td>{22916}</td>\n",
       "      <td>0.985185</td>\n",
       "    </tr>\n",
       "    <tr>\n",
       "      <th>364</th>\n",
       "      <td>{22921, 22916, 22917}</td>\n",
       "      <td>{22918}</td>\n",
       "      <td>0.979866</td>\n",
       "    </tr>\n",
       "    <tr>\n",
       "      <th>456</th>\n",
       "      <td>{22921, 22919, 22917}</td>\n",
       "      <td>{22918}</td>\n",
       "      <td>0.979730</td>\n",
       "    </tr>\n",
       "  </tbody>\n",
       "</table>\n",
       "</div>"
      ],
      "text/plain": [
       "                                  basket next_product     proba\n",
       "197  {22917, 22920, 22916, 22921, 22919}      {22918}  0.992537\n",
       "420         {22921, 22916, 22919, 22917}      {22918}  0.986014\n",
       "306         {22921, 22920, 22916, 22917}      {22918}  0.985714\n",
       "308         {22921, 22920, 22918, 22917}      {22916}  0.985714\n",
       "92          {22921, 22920, 22919, 22917}      {22918}  0.985401\n",
       "228         {22921, 22920, 22916, 22919}      {22918}  0.985401\n",
       "202  {22920, 22916, 22921, 22919, 22918}      {22917}  0.985185\n",
       "199  {22917, 22920, 22921, 22919, 22918}      {22916}  0.985185\n",
       "364                {22921, 22916, 22917}      {22918}  0.979866\n",
       "456                {22921, 22919, 22917}      {22918}  0.979730"
      ]
     },
     "execution_count": 55,
     "metadata": {},
     "output_type": "execute_result"
    }
   ],
   "source": [
    "a=time.time()\n",
    "freqItemSet, rules = fpgrowth(basket['StockCode'].values, minSupRatio=0.005, minConf=0.3)\n",
    "b=time.time()\n",
    "print('time to execute in seconds : ',b-a, ' s.')\n",
    "print('Number of rules generated : ', len(rules))\n",
    "\n",
    "association=pd.DataFrame(rules,columns =['basket','next_product','proba']) \n",
    "association=association.sort_values(by='proba',ascending=False)\n",
    "print('Dimensions of the association table are : ', association.shape)\n",
    "association.head(10)"
   ]
  },
  {
   "cell_type": "code",
   "execution_count": null,
   "metadata": {},
   "outputs": [],
   "source": []
  },
  {
   "cell_type": "code",
   "execution_count": 56,
   "metadata": {},
   "outputs": [],
   "source": [
    "def compute_next_best_product(basket_el):\n",
    "    \"\"\"\n",
    "\n",
    "    paramètre : basket_el = liste des éléments du panier du consommateur\n",
    "\n",
    "    return : next_pdt, proba = produit suivant à recommander, probabilité d'achat. Ou (0,0) si aucun produit n'est trouvé. \n",
    "            \n",
    "    Description : à partir du panier d'un utilisateur, renvoie le produit à recommander s'il n'a pas été trouvé dans la liste des associations de la table associée au modèle FP Growth. \n",
    "    Pour ce faire, nous recherchons dans la table des associations le produit à recommander pour chaque produit individuel du panier du consommateur. \n",
    "    produit individuel du panier du consommateur.\n",
    "\n",
    "    \"\"\"\n",
    "    \n",
    "    for k in basket_el: # pour chaque élément du panier de consommation\n",
    "            k={k}\n",
    "            if len(association[association['basket']==k].values) !=0: # si nous trouvons une association correspondante dans la table de croissance fp\n",
    "                next_pdt=list(association[association['basket']==k]['next_product'].values[0])[0] # nous prenons le produit conséquent\n",
    "                if next_pdt not in basket_el : # Nous vérifions que le client n'a pas acheté le produit précédemment\n",
    "                    proba=association[association['basket']==k]['proba'].values[0] # Trouver la probabilité associée\n",
    "                    return(next_pdt,proba)\n",
    "    \n",
    "    return(0,0) # return (0,0) si aucun produit n'a été trouvé"
   ]
  },
  {
   "cell_type": "code",
   "execution_count": null,
   "metadata": {},
   "outputs": [],
   "source": []
  },
  {
   "cell_type": "code",
   "execution_count": 57,
   "metadata": {},
   "outputs": [],
   "source": [
    "def find_next_product(basket):\n",
    "    \"\"\"\n",
    "\n",
    "    Paramètre : basket = dataframe du panier du consommateur\n",
    "\n",
    "    Return : list_next_pdt, list_proba = liste des prochains éléments à recommander et les probabilités d'achat associées.\n",
    "    \n",
    "    description : Fonction principale qui utilise la fonction précédente.\n",
    "    Pour chaque client de l'ensemble de données, nous recherchons une association correspondante dans la table du modèle Fp Growth.\n",
    "    Si aucune association n'est trouvée, nous appelons la fonction compute_next_best_product qui recherche les associations de produits individuels.\n",
    "    Si aucune association individuelle n'est trouvée, la fonction renvoie (0,0).\n",
    "\n",
    "    \"\"\"\n",
    "    n=basket.shape[0]\n",
    "    list_next_pdt=[]\n",
    "    list_proba=[]\n",
    "    for i in range(n): # pour chaque client\n",
    "        el=set(basket['StockCode'][i]) # panier du client\n",
    "        if len(association[association['basket']==el].values) !=0: # si nous trouvons une association dans la table de croissance fp correspondant à tous les paniers du client\n",
    "            next_pdt=list(association[association['basket']==el]['next_product'].values[0])[0] # On prend le produit conséquent\n",
    "            proba=association[association['basket']==el]['proba'].values[0] # Probabilité associée dans le tableau\n",
    "            list_next_pdt.append(next_pdt)\n",
    "            list_proba.append(proba)\n",
    "\n",
    "\n",
    "        elif len(association[association['basket']==el].values) ==0: # Si aucun antécédent de tout le panier n'a été trouvé dans la table\n",
    "            next_pdt,proba= compute_next_best_product(basket['StockCode'][i]) # fonction précédente\n",
    "            list_next_pdt.append(next_pdt)\n",
    "            list_proba.append(proba)\n",
    "            \n",
    "    return(list_next_pdt, list_proba)"
   ]
  },
  {
   "cell_type": "code",
   "execution_count": null,
   "metadata": {},
   "outputs": [],
   "source": []
  },
  {
   "cell_type": "markdown",
   "metadata": {},
   "source": [
    "# Calcul pour chaque client"
   ]
  },
  {
   "cell_type": "code",
   "execution_count": 58,
   "metadata": {},
   "outputs": [
    {
     "name": "stdout",
     "output_type": "stream",
     "text": [
      "85.30448508262634\n"
     ]
    },
    {
     "data": {
      "text/html": [
       "<div>\n",
       "<style scoped>\n",
       "    .dataframe tbody tr th:only-of-type {\n",
       "        vertical-align: middle;\n",
       "    }\n",
       "\n",
       "    .dataframe tbody tr th {\n",
       "        vertical-align: top;\n",
       "    }\n",
       "\n",
       "    .dataframe thead th {\n",
       "        text-align: right;\n",
       "    }\n",
       "</style>\n",
       "<table border=\"1\" class=\"dataframe\">\n",
       "  <thead>\n",
       "    <tr style=\"text-align: right;\">\n",
       "      <th></th>\n",
       "      <th></th>\n",
       "      <th>StockCode</th>\n",
       "      <th>Recommended Product</th>\n",
       "      <th>Probability</th>\n",
       "    </tr>\n",
       "    <tr>\n",
       "      <th>InvoiceNo</th>\n",
       "      <th>CustomerID</th>\n",
       "      <th></th>\n",
       "      <th></th>\n",
       "      <th></th>\n",
       "    </tr>\n",
       "  </thead>\n",
       "  <tbody>\n",
       "    <tr>\n",
       "      <th>536365</th>\n",
       "      <th>17850.0</th>\n",
       "      <td>[84029G, 71053, 85123A, 84406B, 84029E, 22752,...</td>\n",
       "      <td>0</td>\n",
       "      <td>0.000000</td>\n",
       "    </tr>\n",
       "    <tr>\n",
       "      <th>536366</th>\n",
       "      <th>17850.0</th>\n",
       "      <td>[22632, 22633]</td>\n",
       "      <td>22865</td>\n",
       "      <td>0.516393</td>\n",
       "    </tr>\n",
       "    <tr>\n",
       "      <th>536367</th>\n",
       "      <th>13047.0</th>\n",
       "      <td>[22745, 22622, 84969, 21777, 21754, 22310, 226...</td>\n",
       "      <td>22750</td>\n",
       "      <td>0.593516</td>\n",
       "    </tr>\n",
       "    <tr>\n",
       "      <th>536368</th>\n",
       "      <th>13047.0</th>\n",
       "      <td>[22914, 22960, 22913, 22912]</td>\n",
       "      <td>22961</td>\n",
       "      <td>0.322280</td>\n",
       "    </tr>\n",
       "    <tr>\n",
       "      <th>536369</th>\n",
       "      <th>13047.0</th>\n",
       "      <td>[21756]</td>\n",
       "      <td>21754</td>\n",
       "      <td>0.576132</td>\n",
       "    </tr>\n",
       "  </tbody>\n",
       "</table>\n",
       "</div>"
      ],
      "text/plain": [
       "                                                              StockCode  \\\n",
       "InvoiceNo CustomerID                                                      \n",
       "536365    17850.0     [84029G, 71053, 85123A, 84406B, 84029E, 22752,...   \n",
       "536366    17850.0                                        [22632, 22633]   \n",
       "536367    13047.0     [22745, 22622, 84969, 21777, 21754, 22310, 226...   \n",
       "536368    13047.0                          [22914, 22960, 22913, 22912]   \n",
       "536369    13047.0                                               [21756]   \n",
       "\n",
       "                     Recommended Product  Probability  \n",
       "InvoiceNo CustomerID                                   \n",
       "536365    17850.0                      0     0.000000  \n",
       "536366    17850.0                  22865     0.516393  \n",
       "536367    13047.0                  22750     0.593516  \n",
       "536368    13047.0                  22961     0.322280  \n",
       "536369    13047.0                  21754     0.576132  "
      ]
     },
     "execution_count": 58,
     "metadata": {},
     "output_type": "execute_result"
    }
   ],
   "source": [
    "a=time.time()\n",
    "list_next_pdt, list_proba= find_next_product(basket) \n",
    "b=time.time()\n",
    "print(b-a)\n",
    "basket['Recommended Product']=list_next_pdt # Ensemble de produits recommandés\n",
    "basket['Probability']=list_proba # Ensemble de probabilités associées\n",
    "basket.head()"
   ]
  },
  {
   "cell_type": "code",
   "execution_count": null,
   "metadata": {},
   "outputs": [],
   "source": []
  },
  {
   "cell_type": "markdown",
   "metadata": {},
   "source": [
    "Calcul des prix estimés à partir des recommandations faites et affichage du tableau final avec l'association (client, produit recommandé)"
   ]
  },
  {
   "cell_type": "code",
   "execution_count": 59,
   "metadata": {},
   "outputs": [
    {
     "data": {
      "text/html": [
       "<div>\n",
       "<style scoped>\n",
       "    .dataframe tbody tr th:only-of-type {\n",
       "        vertical-align: middle;\n",
       "    }\n",
       "\n",
       "    .dataframe tbody tr th {\n",
       "        vertical-align: top;\n",
       "    }\n",
       "\n",
       "    .dataframe thead th {\n",
       "        text-align: right;\n",
       "    }\n",
       "</style>\n",
       "<table border=\"1\" class=\"dataframe\">\n",
       "  <thead>\n",
       "    <tr style=\"text-align: right;\">\n",
       "      <th></th>\n",
       "      <th></th>\n",
       "      <th>Customer basket</th>\n",
       "      <th>Recommended Product</th>\n",
       "      <th>Product description</th>\n",
       "      <th>Probability</th>\n",
       "      <th>Price estimation</th>\n",
       "    </tr>\n",
       "    <tr>\n",
       "      <th>InvoiceNo</th>\n",
       "      <th>CustomerID</th>\n",
       "      <th></th>\n",
       "      <th></th>\n",
       "      <th></th>\n",
       "      <th></th>\n",
       "      <th></th>\n",
       "    </tr>\n",
       "  </thead>\n",
       "  <tbody>\n",
       "    <tr>\n",
       "      <th>536365</th>\n",
       "      <th>17850.0</th>\n",
       "      <td>[84029G, 71053, 85123A, 84406B, 84029E, 22752,...</td>\n",
       "      <td>0</td>\n",
       "      <td>Null</td>\n",
       "      <td>0.000000</td>\n",
       "      <td>0.000000</td>\n",
       "    </tr>\n",
       "    <tr>\n",
       "      <th>536366</th>\n",
       "      <th>17850.0</th>\n",
       "      <td>[22632, 22633]</td>\n",
       "      <td>22865</td>\n",
       "      <td>HAND WARMER OWL DESIGN</td>\n",
       "      <td>0.516393</td>\n",
       "      <td>0.955328</td>\n",
       "    </tr>\n",
       "    <tr>\n",
       "      <th>536367</th>\n",
       "      <th>13047.0</th>\n",
       "      <td>[22745, 22622, 84969, 21777, 21754, 22310, 226...</td>\n",
       "      <td>22750</td>\n",
       "      <td>FELTCRAFT PRINCESS LOLA DOLL</td>\n",
       "      <td>0.593516</td>\n",
       "      <td>2.225686</td>\n",
       "    </tr>\n",
       "    <tr>\n",
       "      <th>536368</th>\n",
       "      <th>13047.0</th>\n",
       "      <td>[22914, 22960, 22913, 22912]</td>\n",
       "      <td>22961</td>\n",
       "      <td>JAM MAKING SET PRINTED</td>\n",
       "      <td>0.322280</td>\n",
       "      <td>0.467306</td>\n",
       "    </tr>\n",
       "    <tr>\n",
       "      <th>536369</th>\n",
       "      <th>13047.0</th>\n",
       "      <td>[21756]</td>\n",
       "      <td>21754</td>\n",
       "      <td>HOME BUILDING BLOCK WORD</td>\n",
       "      <td>0.576132</td>\n",
       "      <td>3.427984</td>\n",
       "    </tr>\n",
       "  </tbody>\n",
       "</table>\n",
       "</div>"
      ],
      "text/plain": [
       "                                                        Customer basket  \\\n",
       "InvoiceNo CustomerID                                                      \n",
       "536365    17850.0     [84029G, 71053, 85123A, 84406B, 84029E, 22752,...   \n",
       "536366    17850.0                                        [22632, 22633]   \n",
       "536367    13047.0     [22745, 22622, 84969, 21777, 21754, 22310, 226...   \n",
       "536368    13047.0                          [22914, 22960, 22913, 22912]   \n",
       "536369    13047.0                                               [21756]   \n",
       "\n",
       "                     Recommended Product           Product description  \\\n",
       "InvoiceNo CustomerID                                                     \n",
       "536365    17850.0                      0                          Null   \n",
       "536366    17850.0                  22865        HAND WARMER OWL DESIGN   \n",
       "536367    13047.0                  22750  FELTCRAFT PRINCESS LOLA DOLL   \n",
       "536368    13047.0                  22961        JAM MAKING SET PRINTED   \n",
       "536369    13047.0                  21754      HOME BUILDING BLOCK WORD   \n",
       "\n",
       "                      Probability  Price estimation  \n",
       "InvoiceNo CustomerID                                 \n",
       "536365    17850.0        0.000000          0.000000  \n",
       "536366    17850.0        0.516393          0.955328  \n",
       "536367    13047.0        0.593516          2.225686  \n",
       "536368    13047.0        0.322280          0.467306  \n",
       "536369    13047.0        0.576132          3.427984  "
      ]
     },
     "execution_count": 59,
     "metadata": {},
     "output_type": "execute_result"
    }
   ],
   "source": [
    "basket=basket.rename(columns = {'StockCode': 'Customer basket'})\n",
    "data_stock=data.drop_duplicates(subset =\"StockCode\", inplace = False)\n",
    "prices=[]\n",
    "description_list=[]\n",
    "for i in range(basket.shape[0]):\n",
    "    stockcode=basket['Recommended Product'][i]\n",
    "    probability= basket['Probability'][i]\n",
    "    if stockcode != 0:\n",
    "        unitprice=data_stock[data_stock['StockCode']==stockcode]['UnitPrice'].values[0]\n",
    "        description=data_stock[data_stock['StockCode']==stockcode]['Description'].values[0]\n",
    "        estim_price=unitprice*probability\n",
    "        prices.append(estim_price)\n",
    "        description_list.append(description)\n",
    "        \n",
    "    else :\n",
    "        prices.append(0)\n",
    "        description_list.append('Null')\n",
    "\n",
    "    \n",
    "\n",
    "basket['Price estimation']=prices \n",
    "basket['Product description']=description_list \n",
    "basket = basket.reindex(columns=['Customer basket','Recommended Product','Product description','Probability','Price estimation'])\n",
    "basket.head()"
   ]
  },
  {
   "cell_type": "code",
   "execution_count": null,
   "metadata": {},
   "outputs": [],
   "source": []
  },
  {
   "cell_type": "markdown",
   "metadata": {},
   "source": [
    "# Résultats\n"
   ]
  },
  {
   "cell_type": "markdown",
   "metadata": {},
   "source": [
    "\n",
    "Anticipation des besoins des clients :"
   ]
  },
  {
   "cell_type": "code",
   "execution_count": 60,
   "metadata": {},
   "outputs": [
    {
     "name": "stdout",
     "output_type": "stream",
     "text": [
      "En moyenne, le système de recommandation peut prédire dans  36.284389697673504 % des cas le prochain produit que le client achètera\n"
     ]
    }
   ],
   "source": [
    "print('En moyenne, le système de recommandation peut prédire dans ',basket['Probability'].mean() *100,  '% des cas le prochain produit que le client achètera')"
   ]
  },
  {
   "cell_type": "code",
   "execution_count": null,
   "metadata": {},
   "outputs": [],
   "source": []
  },
  {
   "cell_type": "markdown",
   "metadata": {},
   "source": [
    "Turnover generated :"
   ]
  },
  {
   "cell_type": "code",
   "execution_count": 61,
   "metadata": {},
   "outputs": [
    {
     "name": "stdout",
     "output_type": "stream",
     "text": [
      "Avec un seul produit proposé, le système de recommandation peut générer un chiffre d affaires dans ce cas jusqu à :  20906  euros.\n"
     ]
    }
   ],
   "source": [
    "print('Avec un seul produit proposé, le système de recommandation peut générer un chiffre d affaires dans ce cas jusqu à : ', round(basket['Price estimation'].sum()), ' euros.') "
   ]
  },
  {
   "cell_type": "code",
   "execution_count": null,
   "metadata": {},
   "outputs": [],
   "source": []
  },
  {
   "cell_type": "markdown",
   "metadata": {},
   "source": [
    "# Conclusion"
   ]
  },
  {
   "cell_type": "markdown",
   "metadata": {},
   "source": [
    "Parmi un catalogue de produits de plus de 3000 articles, un modèle simple basé sur des règles d'association permet de prédire dans 36% des cas le prochain produit que le client achètera et donc de générer des revenus supplémentaires significatifs.\n",
    "\n",
    "L'avantage de ce modèle est qu'il offre une très bonne précision tout en étant à la fois facile à mettre en œuvre et explicable.\n",
    "\n",
    "En effet, contrairement à d'autres modèles d'intelligence artificielle qui peuvent apparaître comme des \"boîtes noires\" parce qu'ils sont difficiles à expliquer, les résultats du modèle Fp Growth sont compréhensibles parce que vous y trouverez toutes les règles spécifiques à votre entreprise.\n",
    "\n",
    "Par exemple, si vous savez que la plupart du temps vos clients achètent le produit A et le produit B ensemble, vous le verrez immédiatement dans votre table d'association"
   ]
  },
  {
   "cell_type": "code",
   "execution_count": null,
   "metadata": {},
   "outputs": [],
   "source": []
  }
 ],
 "metadata": {
  "kernelspec": {
   "display_name": "base",
   "language": "python",
   "name": "python3"
  },
  "language_info": {
   "codemirror_mode": {
    "name": "ipython",
    "version": 3
   },
   "file_extension": ".py",
   "mimetype": "text/x-python",
   "name": "python",
   "nbconvert_exporter": "python",
   "pygments_lexer": "ipython3",
   "version": "3.10.2"
  },
  "orig_nbformat": 4
 },
 "nbformat": 4,
 "nbformat_minor": 2
}
